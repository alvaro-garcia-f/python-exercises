{
 "cells": [
  {
   "cell_type": "markdown",
   "id": "9e384ab0-6ea5-4c1b-97d4-47d5a0f669a3",
   "metadata": {},
   "source": [
    "# 🐍 INTRODUCCIÓN A PYTHON\n",
    "\n",
    "## Introducción\n",
    "\n",
    "Estos ejercicios están pensados para practicar algunos fundamentos básicos del lenguaje: **tipos básicos, condicionales y bucles**.\n",
    "\n",
    "Los ejercicios pueden realizarse en cualquier IDE, pero la idea es practicar también con Jupyter, e ir intercalando celdas de código con las celdas de MD que contienen los enunciados de los ejercicios. \n"
   ]
  },
  {
   "cell_type": "markdown",
   "id": "d3aacec6-dd7e-4555-94cd-f03e1adc1f3b",
   "metadata": {},
   "source": [
    "### 🧩 Iteración 1: Entrada/Salida básica y condicionales\n",
    "\n",
    "Crea un fragmento de código en Python que:\n",
    "\n",
    "1. Pide el nombre de un **usuario** y lo guarde en una variable.\n",
    "2. Pide la **contraseña** del usuario y la guarde en una variable.\n",
    "3. Imprima: `El nombre del usuario es [Introducir nombre leído]`\n",
    "4. Imprima: `La constraseña del usuario es [Introducir contraseña leída]`\n",
    "5. Imprima:\n",
    "   - `La contraseña es demasiado corta.` si la contraseña tiene menos de la 6 caracteres\n",
    "   - `La contraseña es demasiado larga.` si la constraseña tiene más de 12 caracteres\n",
    "   - `Contraseña aceptada.` en otro caso"
   ]
  },
  {
   "cell_type": "markdown",
   "id": "b7452ba1-b0dd-4b9d-bc5f-06c3edc07dd2",
   "metadata": {},
   "source": [
    "### 🔤 Iteración 2: Cadenas y bucles\n",
    "\n",
    "1. Imprime todos los caracteres del nombre del usuario, separados por un espacio: `u s e r`\n",
    "2. Imprime todos los caracteres del nombre del usuario, separados por guiones bajos y entre asteriscos: `*u_s_e_r*`\n",
    "3. Imprime todos los caracteres del nombre del usuario en **mayúsculas** y en **orden inverso**: `R E S U` \n"
   ]
  },
  {
   "cell_type": "markdown",
   "id": "ec162c0d-404e-4518-ab0e-3e69e97422bd",
   "metadata": {},
   "source": [
    "### 🔢 Iteración 3: Números, condicionales y bucles\n",
    "\n",
    "1. Escribe un bucle que imprima todos los números del **1 al 20**.  \n",
    "2. Escribe un bucle que imprima todos los **números impares menores que 128** que sean divisibles por 3, pero **no** por 5.  \n",
    "3. Escribe un bucle que muestre todas las **potencias de 2** desde 2¹ hasta 2¹⁰:\n"
   ]
  },
  {
   "cell_type": "markdown",
   "id": "fcb47f63-bc99-48cd-8006-9d94a86a4142",
   "metadata": {},
   "source": [
    "### 🧠 Iteración 4: ¡Bonus!\n",
    "\n",
    "Visita [lorem ipsum generator](https://loremipsum.io) y:\n",
    "\n",
    "1. Genera **3 párrafos**. Guarda el texto en una variable llamada `lorem`.  \n",
    "2. Haz que tu programa **cuente el número de palabras** en `lorem`.  \n",
    "3. Haz que tu programa **cuente cuántas veces aparece la palabra `et`** en el texto."
   ]
  }
 ],
 "metadata": {
  "kernelspec": {
   "display_name": "Python 3 (ipykernel)",
   "language": "python",
   "name": "python3"
  },
  "language_info": {
   "codemirror_mode": {
    "name": "ipython",
    "version": 3
   },
   "file_extension": ".py",
   "mimetype": "text/x-python",
   "name": "python",
   "nbconvert_exporter": "python",
   "pygments_lexer": "ipython3",
   "version": "3.11.9"
  }
 },
 "nbformat": 4,
 "nbformat_minor": 5
}
