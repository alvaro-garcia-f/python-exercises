{
 "cells": [
  {
   "cell_type": "markdown",
   "id": "56735e1f-d3af-4d09-aad8-2867ac0716db",
   "metadata": {},
   "source": [
    "# Python Básico 🐍 - Ejercicios\n",
    "\n",
    "¡Bienvenidos/as! 👋  \n",
    "\n",
    "Comparto por aquí una serie de ejercicios pensados para que practicar los conceptos básicos de **Python**. Los he dividivo en notebooks por temas con la idea de que se puedan resolver los ejercicios en el mismo archivo (y de paso practicar con MD y Jupyter 😜).\n",
    "\n",
    "Los ejercicios no tocan conceptos complicados: son retos simples, ideales para afianzar los fundamentos y ganar confianza escribiendo código en este lenguaje. La idea es jugar un poco con variables, bucles, condicionales y poco más. Si alguien quiere añadir más ejercicios, adelante. ¡Espero que sean útiles!\n",
    "\n",
    "PD.- Los ejercicios no los he creado yo, son una compilación de katas encontradas por internet y ejercicios de programación de otros cursos, así que el mérito es más bien de sus correspondientes autores.\n",
    "\n"
   ]
  },
  {
   "cell_type": "markdown",
   "id": "565154fd-f3dc-48ea-9933-a1312bc055e4",
   "metadata": {},
   "source": [
    "## Listado de ejercicios\n",
    "1. [Introducción a Python](./01-Python-basico.ipynb)\n",
    "2. [Funciones y manejo de strings](./02-Funciones-y-strings.ipynb)\n",
    "3. [Manejo de listas](./03-Listas.ipynb)\n",
    "4. [Manejo de diccionarios](./04-Diccionarios.ipynb)\n",
    "5. [Programación orientada a objetos](./05-POO.ipynb)"
   ]
  },
  {
   "cell_type": "code",
   "execution_count": null,
   "id": "474d105c-f417-4aca-abf3-9b98fbe261ff",
   "metadata": {},
   "outputs": [],
   "source": []
  }
 ],
 "metadata": {
  "kernelspec": {
   "display_name": "Python 3 (ipykernel)",
   "language": "python",
   "name": "python3"
  },
  "language_info": {
   "codemirror_mode": {
    "name": "ipython",
    "version": 3
   },
   "file_extension": ".py",
   "mimetype": "text/x-python",
   "name": "python",
   "nbconvert_exporter": "python",
   "pygments_lexer": "ipython3",
   "version": "3.11.9"
  }
 },
 "nbformat": 4,
 "nbformat_minor": 5
}
