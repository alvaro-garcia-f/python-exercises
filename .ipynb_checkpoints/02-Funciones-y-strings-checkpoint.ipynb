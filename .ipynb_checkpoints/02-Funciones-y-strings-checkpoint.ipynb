{
 "cells": [
  {
   "cell_type": "markdown",
   "id": "a5c375fe-be7a-4ea2-8d07-7c7a8d148cb7",
   "metadata": {},
   "source": [
    "# 🐍 Cadenas y Funciones\n",
    "\n",
    "## Introducción\n",
    "\n",
    "En esta segunda batería de ejercicios nos centramos en la creación de funciones y el manejo simple de cadenas de caracteres.\n",
    "\n",
    "## Reglas\n",
    "\n",
    "Todas las funciones deben ser **[puras](https://es.wikipedia.org/wiki/Funci%C3%B3n_pura)**  (es decir, no deben modificar variables externas ni tener efectos secundarios)\n"
   ]
  },
  {
   "cell_type": "markdown",
   "id": "7d31aa48-470c-4879-bcc8-b76eeb0d6797",
   "metadata": {},
   "source": [
    "## Iteración 1\n",
    "\n",
    "Crea las siguientes funciones:\n",
    "\n",
    "### 1.1 remove_first_and_last_char(cadena)\n",
    "\n",
    "Esta función debe eliminar el **primer** y el **último** carácter de una cadena.  \n",
    "Recibe un único parámetro: la cadena original.  \n",
    "\n",
    "Si la cadena tiene menos de dos caracteres, devuelve una cadena vacía.\n",
    "\n",
    "```python\n",
    "# Ejemplo:\n",
    "remove_first_and_last_char(\"Python\")  # → \"ytho\"\n",
    "remove_first_and_last_char(\"A\")       # → \"\"\n",
    "```"
   ]
  },
  {
   "cell_type": "markdown",
   "id": "109350f7-8b3a-4a68-b741-984ab8823c58",
   "metadata": {},
   "source": [
    "### 1.2 to_leet(cadena)\n",
    "\n",
    "Esta función traduce texto a [leet básico](https://es.wikipedia.org/wiki/Escritura_leet). Reemplaza todos los siguientes caracteres:\n",
    "\n",
    "'a' o 'A' → '4'\n",
    "\n",
    "'e' o 'E' → '3'\n",
    "\n",
    "'l' o 'L' → '1'\n",
    "\n",
    "```python\n",
    "# Ejemplo:\n",
    "to_leet(\"Fundamentals\")  # → \"Fund4m3nt41s\"\n",
    "```"
   ]
  },
  {
   "cell_type": "markdown",
   "id": "ad5612f7-7c76-4a44-8e26-7745f3e4bda1",
   "metadata": {},
   "source": [
    "### 1.3 no_vowels(cadena)\n",
    "\n",
    "Esta función debe eliminar todas las vocales (mayúsculas y minúsculas) de una cadena dada.\n",
    "\n",
    "```python\n",
    "# Ejemplo:\n",
    "no_vowels(\"master en IA\")  # → \"mstr n\"\n",
    "no_vowels(\"HELLO\")   # → \"HLL\"\n",
    "```"
   ]
  },
  {
   "cell_type": "markdown",
   "id": "35970793-8fd7-425a-b8a0-40e8889af3d8",
   "metadata": {},
   "source": [
    "## Iteración 2 - Generador de Apodos\n",
    "\n",
    "Escribe una función `nickname_generator(nombre)` que reciba una cadena y devuelva un **apodo** formado por las 3 o 4 primeras letras.\n",
    "\n",
    "- Si la **tercera letra** es una **consonante**, devuelve las **3 primeras letras**.  \n",
    "- Si la **tercera letra** es una **vocal**, devuelve las **4 primeras letras**.  \n",
    "- Si el nombre tiene menos de 4 caracteres, devuelve el mensaje:  \n",
    "  `\"Error: nombre demasiado corto\"`\n",
    "\n",
    "```python\n",
    "# Ejemplos:\n",
    "nickname_generator(\"Robert\")   # → \"Rob\"\n",
    "nickname_generator(\"Kimberly\") # → \"Kim\"\n",
    "nickname_generator(\"Samantha\") # → \"Sam\"\n",
    "\n",
    "nickname_generator(\"Jeannie\")  # → \"Jean\"\n",
    "nickname_generator(\"Douglas\")  # → \"Doug\"\n",
    "nickname_generator(\"Gregory\")  # → \"Greg\"\n",
    "```"
   ]
  },
  {
   "cell_type": "markdown",
   "id": "74c9e1a1-8529-4aad-8565-2bbc52f72026",
   "metadata": {},
   "source": [
    "## Iteración 3 - Contar vocales y consonantes\n",
    "\n",
    "Crea una función `count_vowels_and_consonants(cadena)` que reciba una cadena de texto y devuelva una string con la cantidad de vocales y consonantes.\n",
    "\n",
    "Considera mayúsculas y minúsculas como equivalentes.\n",
    "\n",
    "```python\n",
    "# Ejemplos:\n",
    "count_vowels_and_consonants(\"Hola Mundo\")  # → \"vocales: 4, consonantes: 5\"\n",
    "\n",
    "count_vowels_and_consonants(\"Python\")  # → \"vocales 1, consonantes: 5\"\n",
    "```"
   ]
  },
  {
   "cell_type": "markdown",
   "id": "60e0bc51-9ddd-4228-83e1-e78dae6e452e",
   "metadata": {},
   "source": [
    "## Iteración 4 - Invertir palabras y capitalizar\n",
    "\n",
    "Crea una función `reverse_and_capitalize(cadena)` que reciba una cadena de texto y devuelva la misma cadena con las palabras invertidas, y cada palabra con la primera letra en mayúscula.\n",
    "\n",
    "```python\n",
    "# Ejemplos:\n",
    "reverse_and_capitalize(\"hello world\")        # → \"World Hello\"\n",
    "reverse_and_capitalize(\"  python is fun  \")  # → \"Fun Is Python\"\n",
    "reverse_and_capitalize(\"openAI rocks\")       # → \"Rocks Openai\"\n",
    "```"
   ]
  },
  {
   "cell_type": "code",
   "execution_count": null,
   "id": "4bf1c73f-e30b-4b2c-a569-3be35da02f8b",
   "metadata": {},
   "outputs": [],
   "source": []
  }
 ],
 "metadata": {
  "kernelspec": {
   "display_name": "Python 3 (ipykernel)",
   "language": "python",
   "name": "python3"
  },
  "language_info": {
   "codemirror_mode": {
    "name": "ipython",
    "version": 3
   },
   "file_extension": ".py",
   "mimetype": "text/x-python",
   "name": "python",
   "nbconvert_exporter": "python",
   "pygments_lexer": "ipython3",
   "version": "3.11.9"
  }
 },
 "nbformat": 4,
 "nbformat_minor": 5
}
