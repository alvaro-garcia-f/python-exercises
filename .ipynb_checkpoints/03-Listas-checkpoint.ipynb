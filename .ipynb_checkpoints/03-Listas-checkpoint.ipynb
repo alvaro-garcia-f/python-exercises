{
 "cells": [
  {
   "cell_type": "markdown",
   "id": "21dc9bca-2585-48f4-a14a-d7fd7fda6cad",
   "metadata": {},
   "source": [
    "# 🐍 Manejo de listas\n",
    "\n",
    "## Introducción\n",
    "\n",
    "En la tercera parte nos enfocamos en las funciones de manejo de listas.\n",
    "\n",
    "## Reglas\n",
    "\n",
    "Todas las funciones deben ser **[puras](https://es.wikipedia.org/wiki/Funci%C3%B3n_pura)**  (es decir, no deben modificar variables externas ni tener efectos secundarios)\n"
   ]
  },
  {
   "cell_type": "markdown",
   "id": "2c553512-3974-4899-b369-99fb3ceb46df",
   "metadata": {},
   "source": [
    "## Iteración 1 - Números y listas\n",
    "\n",
    "Crea las siguientes funciones en Python:\n",
    "\n",
    "### 1.1 add_positive_numbers(lista)\n",
    "\n",
    "Recibes una lista de números y debes devolver la **suma de todos los positivos**.\n",
    "\n",
    "```python\n",
    "# Ejemplo:\n",
    "add_positive_numbers([1, -4, 7, 12])  # → 20 (1 + 7 + 12 = 20)\n",
    "```"
   ]
  },
  {
   "cell_type": "markdown",
   "id": "cdf00490-cba1-42fe-8bda-21b553488040",
   "metadata": {},
   "source": [
    "### 1.2 add_sheeps(lista)\n",
    "\n",
    "Considera una lista de booleanos que representa un rebaño de ovejas donde algunas pueden faltar (`True` significa presente, `False` ausente).\n",
    "Escribe una función que cuente cuántas ovejas están presentes en el rebaño.\n",
    "```python\n",
    "#Ejemplo:\n",
    "sheeps = [True, True, True, False, True, True, True, True, True, False, True, False]\n",
    "add_sheeps(sheeps)  # → 9\n",
    "```"
   ]
  },
  {
   "cell_type": "markdown",
   "id": "7cde1fd4-04e9-4e84-9520-57c46990c004",
   "metadata": {},
   "source": [
    "### 1.3 add_sheeps_2D(matriz)\n",
    "\n",
    "Repite el ejercio anterior partiendo de un listado de rebaños, representado como una matriz de booleanos. Devuelve un lista con el total de ovejas en cada rebaño (lista individual) y el total de ovejas en toda la matriz\n",
    "```python\n",
    "#Ejemplo:\n",
    "sheeps = [[True, True, True, False, True, True, True, True, True, False, True, False],\n",
    "          [False, True, True, True, False, False, False],\n",
    "          [True, True, True, True, True, False, True, True, True, True, True]\n",
    "         ]\n",
    "add_sheeps_2D(sheeps)  # → \"Ovejas por rebaño: [9, 3, 10] Total: 22\"\n",
    "```"
   ]
  },
  {
   "cell_type": "markdown",
   "id": "c0e28864-2ee6-4cec-ae22-743eff83eb6e",
   "metadata": {},
   "source": [
    "### 1.4 reverse_number(lista)\n",
    "\n",
    "Recibes una **cadena* que representa un número y debes devolver una lista con sus dígitos en orden inverso.\n",
    "```python\n",
    "#Ejemplo:\n",
    "reverse_number(\"348597\")  # → [7, 9, 5, 8, 4, 3]\n",
    "```"
   ]
  },
  {
   "cell_type": "markdown",
   "id": "e6c5393c-43cd-450e-8c4a-b308f37d6a51",
   "metadata": {},
   "source": [
    "## Iteración 2\n",
    "\n",
    "Crea una función con dos argumentos `count_by(x, n)` que devuelva una **lista de longitud `n`** con los múltiplos de `x`.\n",
    "\n",
    "- Asegúrate de que tanto `x` como `n` sean números positivos mayores que 0.\n",
    "- Devuelve el resultado como una **lista**.\n",
    "\n",
    "```python\n",
    "# Ejemplos:\n",
    "count_by(1, 10)  # → [1, 2, 3, 4, 5, 6, 7, 8, 9, 10]\n",
    "count_by(2, 5)   # → [2, 4, 6, 8, 10]"
   ]
  },
  {
   "cell_type": "markdown",
   "id": "307eed40-3355-4512-86f0-fe19915b38d6",
   "metadata": {},
   "source": [
    "## Iteración 3\n",
    "\n",
    "Escribe una función que reciba una **lista de cadenas** como argumento y devuelva una nueva lista con las mismas cadenas, **ordenadas de la más corta a la más larga**.\n",
    "\n",
    "```python\n",
    "# Ejemplo:\n",
    "strings = [\"Telescopes\", \"Glasses\", \"Eyes\", \"Monocles\"]\n",
    "\n",
    "# Resultado esperado:\n",
    "# [\"Eyes\", \"Glasses\", \"Monocles\", \"Telescopes\"]"
   ]
  },
  {
   "cell_type": "markdown",
   "id": "98d7315b-f05a-4f14-a1c3-ca5758ccd09e",
   "metadata": {},
   "source": [
    "## Iteración 4\n",
    "\n",
    "Debes implementar la función `array_diff` que reciba **dos listas** y devuelva una **nueva lista** que calcule la diferencia entre ellas, es decir, los valores que **están presente en la primera lista, pero no en la segunda**.\n",
    "\n",
    "```python\n",
    "# Ejemplos:\n",
    "array_diff([1, 2], [1])           # → [2]\n",
    "array_diff([1, 2, 2, 2, 3], [2])  # → [1, 3]\n",
    "```"
   ]
  },
  {
   "cell_type": "markdown",
   "id": "9f0b8735-635a-43bb-a096-81a216190a5b",
   "metadata": {},
   "source": [
    "## Bonus- Caracol\n",
    "\n",
    "Implementa la función `snail`, que recibe una matriz `n x n` y devuelve una lista con los elementos de la matriz ordenados desde los más interiores a los exteriores, en el sentido de las agujas del reloj.\n",
    "```python\n",
    "array = [[1,2,3], [4,5,6], [7,8,9]]\n",
    "snail(array) == [1,2,3,6,9,8,7,4,5]\n",
    "```\n",
    "Para mayor claridad:\n",
    "\n",
    "![](./img/snail.png)"
   ]
  },
  {
   "cell_type": "code",
   "execution_count": null,
   "id": "793f36b5-8170-48da-bcb1-677e75c70354",
   "metadata": {},
   "outputs": [],
   "source": []
  }
 ],
 "metadata": {
  "kernelspec": {
   "display_name": "Python 3 (ipykernel)",
   "language": "python",
   "name": "python3"
  },
  "language_info": {
   "codemirror_mode": {
    "name": "ipython",
    "version": 3
   },
   "file_extension": ".py",
   "mimetype": "text/x-python",
   "name": "python",
   "nbconvert_exporter": "python",
   "pygments_lexer": "ipython3",
   "version": "3.11.9"
  }
 },
 "nbformat": 4,
 "nbformat_minor": 5
}
