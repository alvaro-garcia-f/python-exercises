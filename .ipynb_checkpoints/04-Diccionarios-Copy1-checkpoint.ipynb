{
 "cells": [
  {
   "cell_type": "markdown",
   "id": "dc73f21e-cade-46f0-a4e2-9662c95c29f1",
   "metadata": {},
   "source": [
    "# 🐍 Manejo de Diccionarios\n",
    "\n",
    "## Introducción\n",
    "\n",
    "En en esta hoja practicamos con la creación y uso de diccionarios.\n",
    "\n",
    "## Reglas\n",
    "\n",
    "Todas las funciones deben ser **[puras](https://es.wikipedia.org/wiki/Funci%C3%B3n_pura)**  (es decir, no deben modificar variables externas ni tener efectos secundarios)\n"
   ]
  },
  {
   "cell_type": "markdown",
   "id": "7d52cb14-1934-4065-b7bf-546850f3e9b4",
   "metadata": {},
   "source": [
    "## Iteración 1\n",
    "\n",
    "Crea una función `create_person(name, age, city)` que devuelva un diccionario con las claves `name`, `age` y `city`.\n",
    "\n",
    "```python\n",
    "# Ejemplo:\n",
    "create_person(\"Alice\", 25, \"Madrid\")  # → {\"name\": \"Alice\", \"age\": 25, \"city\": \"Madrid\"}\n",
    "```"
   ]
  },
  {
   "cell_type": "markdown",
   "id": "258bb04f-d8a4-42fc-a8a0-0f19b910797d",
   "metadata": {},
   "source": [
    "## Iteración 2\n",
    "\n",
    "Crea una función `update_age(person, new_age)` que reciba un diccionario person y actualice su edad con `new_age`.\n",
    "D\n",
    "evuelve el diccionario actualizado.\n",
    "\n",
    "```python\n",
    "# Ejemplo:\n",
    "p = {\"name\": \"Alice\", \"age\": 25, \"city\": \"Madrid\"}\n",
    "\n",
    "update_age(p, 26)  # → {\"name\": \"Alice\", \"age\": 26, \"city\": \"Madrid\"}\n",
    "```"
   ]
  },
  {
   "cell_type": "markdown",
   "id": "267e2ac9-9cbc-4ed8-86e1-01bc8cb128bf",
   "metadata": {},
   "source": [
    "## Iteración 3\n",
    "\n",
    "Crea una función `count_keys_and_values(d)` que reciba un diccionario y devuelva otro diccionario con las claves `num_keys` y `num_values`, indicando la cantidad de claves y de valores distintos.\n",
    "\n",
    "```python\n",
    "# Ejemplo:\n",
    "d = {\"name\": \"Alice\", \"age\": 26, \"city\": \"Madrid\"}\n",
    "\n",
    "count_keys_and_values(d)  # → {\"num_keys\": 3, \"num_values\": 3}\n",
    "```"
   ]
  },
  {
   "cell_type": "markdown",
   "id": "f4a84882-d523-41c5-8f5b-b17811731050",
   "metadata": {},
   "source": [
    "## Iteración 4\n",
    "\n",
    "Crea una función `filter_dict(d, key_to_remove)` que reciba un diccionario `d` y elimine la clave `key_to_remove` si existe.\n",
    "\n",
    "Devuelve un nuevo diccionario sin modificar el original.\n",
    "\n",
    "```python\n",
    "# Ejemplo:\n",
    "d = {\"name\": \"Alice\", \"age\": 26, \"city\": \"Madrid\"}\n",
    "\n",
    "filter_dict(d, \"age\")  # → {\"name\": \"Alice\", \"city\": \"Madrid\"}\n",
    "```"
   ]
  },
  {
   "cell_type": "markdown",
   "id": "dd82d82e-7507-4142-a56a-29af72b8ff2d",
   "metadata": {},
   "source": [
    "## Iteración 5\n",
    "\n",
    "Crea una función `add_friend(person, friend_name, friend_age)` que agregue un amigo al diccionario `person`.\n",
    "\n",
    "El amigo se debe añadir como diccionario dentro de una lista en la clave `friends`.\n",
    "\n",
    "```python\n",
    "# Ejemplo:\n",
    "person = {\"name\": \"Alice\", \"age\": 26, \"city\": \"Madrid\", \"friends\": []}\n",
    "\n",
    "add_friend(person, \"Bob\", 25)  # → {\"name\": \"Alice\", \"age\": 26, \"city\": \"Madrid\", \"friends\": [{\"name\": \"Bob\", \"age\": 25}]}\n",
    "```"
   ]
  }
 ],
 "metadata": {
  "kernelspec": {
   "display_name": "Python 3 (ipykernel)",
   "language": "python",
   "name": "python3"
  },
  "language_info": {
   "codemirror_mode": {
    "name": "ipython",
    "version": 3
   },
   "file_extension": ".py",
   "mimetype": "text/x-python",
   "name": "python",
   "nbconvert_exporter": "python",
   "pygments_lexer": "ipython3",
   "version": "3.11.9"
  }
 },
 "nbformat": 4,
 "nbformat_minor": 5
}
